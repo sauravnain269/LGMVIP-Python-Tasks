{
  "nbformat": 4,
  "nbformat_minor": 0,
  "metadata": {
    "colab": {
      "provenance": []
    },
    "kernelspec": {
      "name": "python3",
      "display_name": "Python 3"
    },
    "language_info": {
      "name": "python"
    }
  },
  "cells": [
    {
      "cell_type": "code",
      "source": [
        "def simple_chatbot(user_input):\n",
        "    user_input = user_input.lower()\n",
        "\n",
        "    if \"hello\" in user_input:\n",
        "        return \"Hi there! How can I help you?\"\n",
        "\n",
        "    elif \"how are you\" in user_input:\n",
        "        return \"I'm just a computer program, but thanks for asking!\"\n",
        "\n",
        "    elif \"bye\" in user_input:\n",
        "        return \"Goodbye! Have a great day.\"\n",
        "\n",
        "    else:\n",
        "        return \"I'm sorry, I didn't understand that. Can you please ask another question?\"\n",
        "\n",
        "# Simple interaction loop\n",
        "print(\"SimpleBot: Hello! Type 'exit' to end the conversation.\")\n",
        "while True:\n",
        "    user_input = input(\"You: \")\n",
        "    if user_input.lower() == 'exit':\n",
        "        print(\"SimpleBot: Goodbye!\")\n",
        "        break\n",
        "    response = simple_chatbot(user_input)\n",
        "    print(f\"SimpleBot: {response}\")\n"
      ],
      "metadata": {
        "colab": {
          "base_uri": "https://localhost:8080/"
        },
        "id": "TkPQRNzf-01l",
        "outputId": "ddbd6949-636d-455d-8a97-65949129b7cc"
      },
      "execution_count": 3,
      "outputs": [
        {
          "output_type": "stream",
          "name": "stdout",
          "text": [
            "SimpleBot: Hello! Type 'exit' to end the conversation.\n",
            "You: Hello\n",
            "SimpleBot: Hi there! How can I help you?\n",
            "You: I'm just a computer program, but thanks for asking!\n",
            "SimpleBot: I'm sorry, I didn't understand that. Can you please ask another question?\n",
            "You: Goodbye\n",
            "SimpleBot: Goodbye! Have a great day.\n",
            "You: Bye\n",
            "SimpleBot: Goodbye! Have a great day.\n",
            "You: Exit\n",
            "SimpleBot: Goodbye!\n"
          ]
        }
      ]
    },
    {
      "cell_type": "code",
      "source": [],
      "metadata": {
        "id": "idrop-RQ_Gw4"
      },
      "execution_count": null,
      "outputs": []
    }
  ]
}