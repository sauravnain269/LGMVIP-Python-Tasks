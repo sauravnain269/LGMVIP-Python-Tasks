{
  "nbformat": 4,
  "nbformat_minor": 0,
  "metadata": {
    "colab": {
      "provenance": []
    },
    "kernelspec": {
      "name": "python3",
      "display_name": "Python 3"
    },
    "language_info": {
      "name": "python"
    }
  },
  "cells": [
    {
      "cell_type": "code",
      "source": [
        "import random\n",
        "\n",
        "def play_game():\n",
        "    choices = [\"rock\", \"paper\", \"scissors\"]\n",
        "\n",
        "    # Get user choice\n",
        "    user_choice = input(\"Choose rock, paper, or scissors: \").lower()\n",
        "    while user_choice not in choices:\n",
        "        print(\"Invalid choice. Please choose rock, paper, or scissors.\")\n",
        "        user_choice = input(\"Choose rock, paper, or scissors: \").lower()\n",
        "\n",
        "    # Get computer choice\n",
        "    computer_choice = random.choice(choices)\n",
        "\n",
        "    # Display choices\n",
        "    print(f\"\\nYou chose: {user_choice}\")\n",
        "    print(f\"Computer chose: {computer_choice}\\n\")\n",
        "\n",
        "    # Determine the winner\n",
        "    if user_choice == computer_choice:\n",
        "        return \"It's a tie!\"\n",
        "    elif (user_choice == \"rock\" and computer_choice == \"scissors\") or \\\n",
        "         (user_choice == \"paper\" and computer_choice == \"rock\") or \\\n",
        "         (user_choice == \"scissors\" and computer_choice == \"paper\"):\n",
        "        return \"You win!\"\n",
        "    else:\n",
        "        return \"Computer wins!\"\n",
        "\n",
        "# Run the game\n",
        "while True:\n",
        "    result = play_game()\n",
        "    print(result)\n",
        "\n",
        "    play_again = input(\"Do you want to play again? (yes/no): \").lower()\n",
        "    if play_again != 'yes':\n",
        "        print(\"Thanks for playing! Goodbye!\")\n",
        "        break\n"
      ],
      "metadata": {
        "colab": {
          "base_uri": "https://localhost:8080/"
        },
        "id": "idrop-RQ_Gw4",
        "outputId": "8cb6ad69-4795-4178-9901-b1762acb0175"
      },
      "execution_count": 4,
      "outputs": [
        {
          "output_type": "stream",
          "name": "stdout",
          "text": [
            "Choose rock, paper, or scissors: Scissors\n",
            "\n",
            "You chose: scissors\n",
            "Computer chose: paper\n",
            "\n",
            "You win!\n",
            "Do you want to play again? (yes/no): Yes\n",
            "Choose rock, paper, or scissors: Rock\n",
            "\n",
            "You chose: rock\n",
            "Computer chose: rock\n",
            "\n",
            "It's a tie!\n",
            "Do you want to play again? (yes/no): Rock\n",
            "Thanks for playing! Goodbye!\n"
          ]
        }
      ]
    },
    {
      "cell_type": "code",
      "source": [],
      "metadata": {
        "id": "62y2kUrJ_uKK"
      },
      "execution_count": null,
      "outputs": []
    }
  ]
}